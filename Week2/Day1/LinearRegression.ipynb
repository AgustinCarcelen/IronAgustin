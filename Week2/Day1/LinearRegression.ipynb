{
 "cells": [
  {
   "cell_type": "code",
   "execution_count": 1,
   "id": "505803a6",
   "metadata": {},
   "outputs": [],
   "source": [
    "import pandas as pd\n",
    "import numpy as np"
   ]
  },
  {
   "cell_type": "code",
   "execution_count": 2,
   "id": "f9b3e90c",
   "metadata": {},
   "outputs": [],
   "source": [
    "data=pd.read_csv('merged_clean_h4a.csv')"
   ]
  },
  {
   "cell_type": "code",
   "execution_count": 3,
   "id": "5d5a6b4a",
   "metadata": {},
   "outputs": [
    {
     "data": {
      "text/html": [
       "<div>\n",
       "<style scoped>\n",
       "    .dataframe tbody tr th:only-of-type {\n",
       "        vertical-align: middle;\n",
       "    }\n",
       "\n",
       "    .dataframe tbody tr th {\n",
       "        vertical-align: top;\n",
       "    }\n",
       "\n",
       "    .dataframe thead th {\n",
       "        text-align: right;\n",
       "    }\n",
       "</style>\n",
       "<table border=\"1\" class=\"dataframe\">\n",
       "  <thead>\n",
       "    <tr style=\"text-align: right;\">\n",
       "      <th></th>\n",
       "      <th>controln</th>\n",
       "      <th>state</th>\n",
       "      <th>gender</th>\n",
       "      <th>medianhv</th>\n",
       "      <th>ic1</th>\n",
       "      <th>ic4</th>\n",
       "      <th>hvp1</th>\n",
       "      <th>percapita</th>\n",
       "      <th>pobc1</th>\n",
       "      <th>pobc2</th>\n",
       "      <th>ic2</th>\n",
       "      <th>ic3</th>\n",
       "      <th>avggift</th>\n",
       "      <th>tcode</th>\n",
       "      <th>dob</th>\n",
       "      <th>domain</th>\n",
       "      <th>target_d</th>\n",
       "    </tr>\n",
       "  </thead>\n",
       "  <tbody>\n",
       "    <tr>\n",
       "      <th>0</th>\n",
       "      <td>44060</td>\n",
       "      <td>FL</td>\n",
       "      <td>Male</td>\n",
       "      <td>801.0</td>\n",
       "      <td>392</td>\n",
       "      <td>520.0</td>\n",
       "      <td>7</td>\n",
       "      <td>21975.0</td>\n",
       "      <td>6</td>\n",
       "      <td>16</td>\n",
       "      <td>430.0</td>\n",
       "      <td>466</td>\n",
       "      <td>28.0</td>\n",
       "      <td>1</td>\n",
       "      <td>1901</td>\n",
       "      <td>C2</td>\n",
       "      <td>100.0</td>\n",
       "    </tr>\n",
       "  </tbody>\n",
       "</table>\n",
       "</div>"
      ],
      "text/plain": [
       "   controln state gender  medianhv  ic1    ic4  hvp1  percapita  pobc1  pobc2  \\\n",
       "0     44060    FL   Male     801.0  392  520.0     7    21975.0      6     16   \n",
       "\n",
       "     ic2  ic3  avggift  tcode   dob domain  target_d  \n",
       "0  430.0  466     28.0      1  1901     C2     100.0  "
      ]
     },
     "execution_count": 3,
     "metadata": {},
     "output_type": "execute_result"
    }
   ],
   "source": [
    "data.head(1)"
   ]
  },
  {
   "cell_type": "code",
   "execution_count": 4,
   "id": "047f01ee",
   "metadata": {},
   "outputs": [],
   "source": [
    "#new tools\n",
    "from sklearn import linear_model\n",
    "from sklearn.model_selection import train_test_split\n",
    "from sklearn.metrics import mean_squared_error, r2_score"
   ]
  },
  {
   "cell_type": "code",
   "execution_count": 5,
   "id": "23e91a37",
   "metadata": {},
   "outputs": [],
   "source": [
    "#we will be predicting Target_D : y = Target_D\n",
    "#X will be everything else -but we migth drop / process some columns\n",
    "y=data['target_d']\n",
    "X=data.drop(['target_d'],axis=1)"
   ]
  },
  {
   "cell_type": "markdown",
   "id": "b96ed86f",
   "metadata": {},
   "source": [
    "# drop any unusable features\n",
    "- based on the correlation matrix - ie highly correlated\n",
    "- anything that seems not useful"
   ]
  },
  {
   "cell_type": "code",
   "execution_count": 6,
   "id": "b24ab8da",
   "metadata": {},
   "outputs": [
    {
     "data": {
      "text/plain": [
       "Index(['controln', 'state', 'gender', 'medianhv', 'ic1', 'ic4', 'hvp1',\n",
       "       'percapita', 'pobc1', 'pobc2', 'ic2', 'ic3', 'avggift', 'tcode', 'dob',\n",
       "       'domain'],\n",
       "      dtype='object')"
      ]
     },
     "execution_count": 6,
     "metadata": {},
     "output_type": "execute_result"
    }
   ],
   "source": [
    "X.columns"
   ]
  },
  {
   "cell_type": "code",
   "execution_count": 7,
   "id": "73ba7333",
   "metadata": {},
   "outputs": [],
   "source": [
    "X=X.drop(['controln', 'ic2', 'ic3', 'ic4', 'tcode'],axis=1)"
   ]
  },
  {
   "cell_type": "markdown",
   "id": "ab3d448b",
   "metadata": {},
   "source": [
    "# Pre processing - getting X ready for the model\n",
    "- power transformation - scaling a feature\n",
    "- managing outliers - remove outliers, flag them\n",
    "- making strings into a number (encoding) _REQUIRED for linear regresion\n",
    "- numerical scaling - scales all the features to have the same range"
   ]
  },
  {
   "cell_type": "code",
   "execution_count": 8,
   "id": "ebc4a3b2",
   "metadata": {},
   "outputs": [],
   "source": [
    "#separete the numerical and categorical features\n",
    "\n",
    "X_num = X.select_dtypes(include=np.number)\n",
    "X_cat = X.select_dtypes(include=object)"
   ]
  },
  {
   "cell_type": "markdown",
   "id": "1250861c",
   "metadata": {},
   "source": [
    "#can turn warnings off\n",
    "- import warnings\n",
    "- warnings.filtewarnings('ignore')"
   ]
  },
  {
   "cell_type": "code",
   "execution_count": 9,
   "id": "b80407ae",
   "metadata": {},
   "outputs": [
    {
     "data": {
      "text/html": [
       "<div>\n",
       "<style scoped>\n",
       "    .dataframe tbody tr th:only-of-type {\n",
       "        vertical-align: middle;\n",
       "    }\n",
       "\n",
       "    .dataframe tbody tr th {\n",
       "        vertical-align: top;\n",
       "    }\n",
       "\n",
       "    .dataframe thead th {\n",
       "        text-align: right;\n",
       "    }\n",
       "</style>\n",
       "<table border=\"1\" class=\"dataframe\">\n",
       "  <thead>\n",
       "    <tr style=\"text-align: right;\">\n",
       "      <th></th>\n",
       "      <th>medianhv</th>\n",
       "      <th>ic1</th>\n",
       "      <th>hvp1</th>\n",
       "      <th>percapita</th>\n",
       "      <th>pobc1</th>\n",
       "      <th>pobc2</th>\n",
       "      <th>avggift</th>\n",
       "      <th>dob</th>\n",
       "    </tr>\n",
       "  </thead>\n",
       "  <tbody>\n",
       "    <tr>\n",
       "      <th>0</th>\n",
       "      <td>801.0</td>\n",
       "      <td>392</td>\n",
       "      <td>7</td>\n",
       "      <td>21975.0</td>\n",
       "      <td>6</td>\n",
       "      <td>16</td>\n",
       "      <td>28.0</td>\n",
       "      <td>1901</td>\n",
       "    </tr>\n",
       "  </tbody>\n",
       "</table>\n",
       "</div>"
      ],
      "text/plain": [
       "   medianhv  ic1  hvp1  percapita  pobc1  pobc2  avggift   dob\n",
       "0     801.0  392     7    21975.0      6     16     28.0  1901"
      ]
     },
     "execution_count": 9,
     "metadata": {},
     "output_type": "execute_result"
    }
   ],
   "source": [
    "X_num.head(1)"
   ]
  },
  {
   "cell_type": "code",
   "execution_count": 10,
   "id": "156687ac",
   "metadata": {},
   "outputs": [
    {
     "data": {
      "text/html": [
       "<div>\n",
       "<style scoped>\n",
       "    .dataframe tbody tr th:only-of-type {\n",
       "        vertical-align: middle;\n",
       "    }\n",
       "\n",
       "    .dataframe tbody tr th {\n",
       "        vertical-align: top;\n",
       "    }\n",
       "\n",
       "    .dataframe thead th {\n",
       "        text-align: right;\n",
       "    }\n",
       "</style>\n",
       "<table border=\"1\" class=\"dataframe\">\n",
       "  <thead>\n",
       "    <tr style=\"text-align: right;\">\n",
       "      <th></th>\n",
       "      <th>state</th>\n",
       "      <th>gender</th>\n",
       "      <th>domain</th>\n",
       "    </tr>\n",
       "  </thead>\n",
       "  <tbody>\n",
       "    <tr>\n",
       "      <th>0</th>\n",
       "      <td>FL</td>\n",
       "      <td>Male</td>\n",
       "      <td>C2</td>\n",
       "    </tr>\n",
       "  </tbody>\n",
       "</table>\n",
       "</div>"
      ],
      "text/plain": [
       "  state gender domain\n",
       "0    FL   Male     C2"
      ]
     },
     "execution_count": 10,
     "metadata": {},
     "output_type": "execute_result"
    }
   ],
   "source": [
    "X_cat.head(1)"
   ]
  },
  {
   "cell_type": "markdown",
   "id": "9c783fe0",
   "metadata": {},
   "source": [
    "## turn categories into numbers - enconding"
   ]
  },
  {
   "cell_type": "code",
   "execution_count": 11,
   "id": "6e869da0",
   "metadata": {},
   "outputs": [
    {
     "data": {
      "text/plain": [
       "array([[0., 0., 0., ..., 0., 0., 0.],\n",
       "       [0., 0., 0., ..., 0., 0., 0.],\n",
       "       [0., 0., 0., ..., 0., 0., 0.],\n",
       "       ...,\n",
       "       [0., 0., 0., ..., 0., 0., 0.],\n",
       "       [0., 0., 0., ..., 0., 0., 0.],\n",
       "       [0., 0., 0., ..., 0., 0., 0.]])"
      ]
     },
     "execution_count": 11,
     "metadata": {},
     "output_type": "execute_result"
    }
   ],
   "source": [
    "#One hot encoder\n",
    "from sklearn.preprocessing import OneHotEncoder\n",
    "\n",
    "encoder=OneHotEncoder(handle_unknown='error', drop='first').fit(X_cat)\n",
    "X_encoded=encoder.transform(X_cat).toarray()\n",
    "X_encoded"
   ]
  },
  {
   "cell_type": "code",
   "execution_count": 12,
   "id": "d99d5876",
   "metadata": {},
   "outputs": [
    {
     "data": {
      "text/plain": [
       "(3993, 65)"
      ]
     },
     "execution_count": 12,
     "metadata": {},
     "output_type": "execute_result"
    }
   ],
   "source": [
    "X_encoded.shape"
   ]
  },
  {
   "cell_type": "code",
   "execution_count": 13,
   "id": "f96d476c",
   "metadata": {},
   "outputs": [
    {
     "data": {
      "text/html": [
       "<div>\n",
       "<style scoped>\n",
       "    .dataframe tbody tr th:only-of-type {\n",
       "        vertical-align: middle;\n",
       "    }\n",
       "\n",
       "    .dataframe tbody tr th {\n",
       "        vertical-align: top;\n",
       "    }\n",
       "\n",
       "    .dataframe thead th {\n",
       "        text-align: right;\n",
       "    }\n",
       "</style>\n",
       "<table border=\"1\" class=\"dataframe\">\n",
       "  <thead>\n",
       "    <tr style=\"text-align: right;\">\n",
       "      <th></th>\n",
       "      <th>state</th>\n",
       "      <th>gender</th>\n",
       "      <th>domain</th>\n",
       "    </tr>\n",
       "  </thead>\n",
       "  <tbody>\n",
       "    <tr>\n",
       "      <th>0</th>\n",
       "      <td>FL</td>\n",
       "      <td>Male</td>\n",
       "      <td>C2</td>\n",
       "    </tr>\n",
       "    <tr>\n",
       "      <th>1</th>\n",
       "      <td>IL</td>\n",
       "      <td>Male</td>\n",
       "      <td>T2</td>\n",
       "    </tr>\n",
       "    <tr>\n",
       "      <th>2</th>\n",
       "      <td>FL</td>\n",
       "      <td>Female</td>\n",
       "      <td>C2</td>\n",
       "    </tr>\n",
       "    <tr>\n",
       "      <th>3</th>\n",
       "      <td>NC</td>\n",
       "      <td>Male</td>\n",
       "      <td>T2</td>\n",
       "    </tr>\n",
       "    <tr>\n",
       "      <th>4</th>\n",
       "      <td>FL</td>\n",
       "      <td>Female</td>\n",
       "      <td>C2</td>\n",
       "    </tr>\n",
       "    <tr>\n",
       "      <th>...</th>\n",
       "      <td>...</td>\n",
       "      <td>...</td>\n",
       "      <td>...</td>\n",
       "    </tr>\n",
       "    <tr>\n",
       "      <th>3988</th>\n",
       "      <td>MI</td>\n",
       "      <td>Female</td>\n",
       "      <td>0</td>\n",
       "    </tr>\n",
       "    <tr>\n",
       "      <th>3989</th>\n",
       "      <td>FL</td>\n",
       "      <td>Male</td>\n",
       "      <td>T2</td>\n",
       "    </tr>\n",
       "    <tr>\n",
       "      <th>3990</th>\n",
       "      <td>CA</td>\n",
       "      <td>Female</td>\n",
       "      <td>U1</td>\n",
       "    </tr>\n",
       "    <tr>\n",
       "      <th>3991</th>\n",
       "      <td>CA</td>\n",
       "      <td>Male</td>\n",
       "      <td>S1</td>\n",
       "    </tr>\n",
       "    <tr>\n",
       "      <th>3992</th>\n",
       "      <td>MI</td>\n",
       "      <td>Male</td>\n",
       "      <td>R2</td>\n",
       "    </tr>\n",
       "  </tbody>\n",
       "</table>\n",
       "<p>3993 rows × 3 columns</p>\n",
       "</div>"
      ],
      "text/plain": [
       "     state  gender domain\n",
       "0       FL    Male     C2\n",
       "1       IL    Male     T2\n",
       "2       FL  Female     C2\n",
       "3       NC    Male     T2\n",
       "4       FL  Female     C2\n",
       "...    ...     ...    ...\n",
       "3988    MI  Female      0\n",
       "3989    FL    Male     T2\n",
       "3990    CA  Female     U1\n",
       "3991    CA    Male     S1\n",
       "3992    MI    Male     R2\n",
       "\n",
       "[3993 rows x 3 columns]"
      ]
     },
     "execution_count": 13,
     "metadata": {},
     "output_type": "execute_result"
    }
   ],
   "source": [
    "X_cat"
   ]
  },
  {
   "cell_type": "code",
   "execution_count": 14,
   "id": "09b47c09",
   "metadata": {},
   "outputs": [
    {
     "data": {
      "text/html": [
       "<div>\n",
       "<style scoped>\n",
       "    .dataframe tbody tr th:only-of-type {\n",
       "        vertical-align: middle;\n",
       "    }\n",
       "\n",
       "    .dataframe tbody tr th {\n",
       "        vertical-align: top;\n",
       "    }\n",
       "\n",
       "    .dataframe thead th {\n",
       "        text-align: right;\n",
       "    }\n",
       "</style>\n",
       "<table border=\"1\" class=\"dataframe\">\n",
       "  <thead>\n",
       "    <tr style=\"text-align: right;\">\n",
       "      <th></th>\n",
       "      <th>state_AE</th>\n",
       "      <th>state_AK</th>\n",
       "      <th>state_AL</th>\n",
       "      <th>state_AP</th>\n",
       "      <th>state_AR</th>\n",
       "      <th>state_AZ</th>\n",
       "      <th>state_CA</th>\n",
       "      <th>state_CO</th>\n",
       "      <th>state_CT</th>\n",
       "      <th>state_FL</th>\n",
       "      <th>...</th>\n",
       "      <th>domain_S1</th>\n",
       "      <th>domain_S2</th>\n",
       "      <th>domain_S3</th>\n",
       "      <th>domain_T1</th>\n",
       "      <th>domain_T2</th>\n",
       "      <th>domain_T3</th>\n",
       "      <th>domain_U1</th>\n",
       "      <th>domain_U2</th>\n",
       "      <th>domain_U3</th>\n",
       "      <th>domain_U4</th>\n",
       "    </tr>\n",
       "  </thead>\n",
       "  <tbody>\n",
       "    <tr>\n",
       "      <th>0</th>\n",
       "      <td>0</td>\n",
       "      <td>0</td>\n",
       "      <td>0</td>\n",
       "      <td>0</td>\n",
       "      <td>0</td>\n",
       "      <td>0</td>\n",
       "      <td>0</td>\n",
       "      <td>0</td>\n",
       "      <td>0</td>\n",
       "      <td>1</td>\n",
       "      <td>...</td>\n",
       "      <td>0</td>\n",
       "      <td>0</td>\n",
       "      <td>0</td>\n",
       "      <td>0</td>\n",
       "      <td>0</td>\n",
       "      <td>0</td>\n",
       "      <td>0</td>\n",
       "      <td>0</td>\n",
       "      <td>0</td>\n",
       "      <td>0</td>\n",
       "    </tr>\n",
       "    <tr>\n",
       "      <th>1</th>\n",
       "      <td>0</td>\n",
       "      <td>0</td>\n",
       "      <td>0</td>\n",
       "      <td>0</td>\n",
       "      <td>0</td>\n",
       "      <td>0</td>\n",
       "      <td>0</td>\n",
       "      <td>0</td>\n",
       "      <td>0</td>\n",
       "      <td>0</td>\n",
       "      <td>...</td>\n",
       "      <td>0</td>\n",
       "      <td>0</td>\n",
       "      <td>0</td>\n",
       "      <td>0</td>\n",
       "      <td>1</td>\n",
       "      <td>0</td>\n",
       "      <td>0</td>\n",
       "      <td>0</td>\n",
       "      <td>0</td>\n",
       "      <td>0</td>\n",
       "    </tr>\n",
       "    <tr>\n",
       "      <th>2</th>\n",
       "      <td>0</td>\n",
       "      <td>0</td>\n",
       "      <td>0</td>\n",
       "      <td>0</td>\n",
       "      <td>0</td>\n",
       "      <td>0</td>\n",
       "      <td>0</td>\n",
       "      <td>0</td>\n",
       "      <td>0</td>\n",
       "      <td>1</td>\n",
       "      <td>...</td>\n",
       "      <td>0</td>\n",
       "      <td>0</td>\n",
       "      <td>0</td>\n",
       "      <td>0</td>\n",
       "      <td>0</td>\n",
       "      <td>0</td>\n",
       "      <td>0</td>\n",
       "      <td>0</td>\n",
       "      <td>0</td>\n",
       "      <td>0</td>\n",
       "    </tr>\n",
       "    <tr>\n",
       "      <th>3</th>\n",
       "      <td>0</td>\n",
       "      <td>0</td>\n",
       "      <td>0</td>\n",
       "      <td>0</td>\n",
       "      <td>0</td>\n",
       "      <td>0</td>\n",
       "      <td>0</td>\n",
       "      <td>0</td>\n",
       "      <td>0</td>\n",
       "      <td>0</td>\n",
       "      <td>...</td>\n",
       "      <td>0</td>\n",
       "      <td>0</td>\n",
       "      <td>0</td>\n",
       "      <td>0</td>\n",
       "      <td>1</td>\n",
       "      <td>0</td>\n",
       "      <td>0</td>\n",
       "      <td>0</td>\n",
       "      <td>0</td>\n",
       "      <td>0</td>\n",
       "    </tr>\n",
       "    <tr>\n",
       "      <th>4</th>\n",
       "      <td>0</td>\n",
       "      <td>0</td>\n",
       "      <td>0</td>\n",
       "      <td>0</td>\n",
       "      <td>0</td>\n",
       "      <td>0</td>\n",
       "      <td>0</td>\n",
       "      <td>0</td>\n",
       "      <td>0</td>\n",
       "      <td>1</td>\n",
       "      <td>...</td>\n",
       "      <td>0</td>\n",
       "      <td>0</td>\n",
       "      <td>0</td>\n",
       "      <td>0</td>\n",
       "      <td>0</td>\n",
       "      <td>0</td>\n",
       "      <td>0</td>\n",
       "      <td>0</td>\n",
       "      <td>0</td>\n",
       "      <td>0</td>\n",
       "    </tr>\n",
       "    <tr>\n",
       "      <th>...</th>\n",
       "      <td>...</td>\n",
       "      <td>...</td>\n",
       "      <td>...</td>\n",
       "      <td>...</td>\n",
       "      <td>...</td>\n",
       "      <td>...</td>\n",
       "      <td>...</td>\n",
       "      <td>...</td>\n",
       "      <td>...</td>\n",
       "      <td>...</td>\n",
       "      <td>...</td>\n",
       "      <td>...</td>\n",
       "      <td>...</td>\n",
       "      <td>...</td>\n",
       "      <td>...</td>\n",
       "      <td>...</td>\n",
       "      <td>...</td>\n",
       "      <td>...</td>\n",
       "      <td>...</td>\n",
       "      <td>...</td>\n",
       "      <td>...</td>\n",
       "    </tr>\n",
       "    <tr>\n",
       "      <th>3988</th>\n",
       "      <td>0</td>\n",
       "      <td>0</td>\n",
       "      <td>0</td>\n",
       "      <td>0</td>\n",
       "      <td>0</td>\n",
       "      <td>0</td>\n",
       "      <td>0</td>\n",
       "      <td>0</td>\n",
       "      <td>0</td>\n",
       "      <td>0</td>\n",
       "      <td>...</td>\n",
       "      <td>0</td>\n",
       "      <td>0</td>\n",
       "      <td>0</td>\n",
       "      <td>0</td>\n",
       "      <td>0</td>\n",
       "      <td>0</td>\n",
       "      <td>0</td>\n",
       "      <td>0</td>\n",
       "      <td>0</td>\n",
       "      <td>0</td>\n",
       "    </tr>\n",
       "    <tr>\n",
       "      <th>3989</th>\n",
       "      <td>0</td>\n",
       "      <td>0</td>\n",
       "      <td>0</td>\n",
       "      <td>0</td>\n",
       "      <td>0</td>\n",
       "      <td>0</td>\n",
       "      <td>0</td>\n",
       "      <td>0</td>\n",
       "      <td>0</td>\n",
       "      <td>1</td>\n",
       "      <td>...</td>\n",
       "      <td>0</td>\n",
       "      <td>0</td>\n",
       "      <td>0</td>\n",
       "      <td>0</td>\n",
       "      <td>1</td>\n",
       "      <td>0</td>\n",
       "      <td>0</td>\n",
       "      <td>0</td>\n",
       "      <td>0</td>\n",
       "      <td>0</td>\n",
       "    </tr>\n",
       "    <tr>\n",
       "      <th>3990</th>\n",
       "      <td>0</td>\n",
       "      <td>0</td>\n",
       "      <td>0</td>\n",
       "      <td>0</td>\n",
       "      <td>0</td>\n",
       "      <td>0</td>\n",
       "      <td>1</td>\n",
       "      <td>0</td>\n",
       "      <td>0</td>\n",
       "      <td>0</td>\n",
       "      <td>...</td>\n",
       "      <td>0</td>\n",
       "      <td>0</td>\n",
       "      <td>0</td>\n",
       "      <td>0</td>\n",
       "      <td>0</td>\n",
       "      <td>0</td>\n",
       "      <td>1</td>\n",
       "      <td>0</td>\n",
       "      <td>0</td>\n",
       "      <td>0</td>\n",
       "    </tr>\n",
       "    <tr>\n",
       "      <th>3991</th>\n",
       "      <td>0</td>\n",
       "      <td>0</td>\n",
       "      <td>0</td>\n",
       "      <td>0</td>\n",
       "      <td>0</td>\n",
       "      <td>0</td>\n",
       "      <td>1</td>\n",
       "      <td>0</td>\n",
       "      <td>0</td>\n",
       "      <td>0</td>\n",
       "      <td>...</td>\n",
       "      <td>1</td>\n",
       "      <td>0</td>\n",
       "      <td>0</td>\n",
       "      <td>0</td>\n",
       "      <td>0</td>\n",
       "      <td>0</td>\n",
       "      <td>0</td>\n",
       "      <td>0</td>\n",
       "      <td>0</td>\n",
       "      <td>0</td>\n",
       "    </tr>\n",
       "    <tr>\n",
       "      <th>3992</th>\n",
       "      <td>0</td>\n",
       "      <td>0</td>\n",
       "      <td>0</td>\n",
       "      <td>0</td>\n",
       "      <td>0</td>\n",
       "      <td>0</td>\n",
       "      <td>0</td>\n",
       "      <td>0</td>\n",
       "      <td>0</td>\n",
       "      <td>0</td>\n",
       "      <td>...</td>\n",
       "      <td>0</td>\n",
       "      <td>0</td>\n",
       "      <td>0</td>\n",
       "      <td>0</td>\n",
       "      <td>0</td>\n",
       "      <td>0</td>\n",
       "      <td>0</td>\n",
       "      <td>0</td>\n",
       "      <td>0</td>\n",
       "      <td>0</td>\n",
       "    </tr>\n",
       "  </tbody>\n",
       "</table>\n",
       "<p>3993 rows × 65 columns</p>\n",
       "</div>"
      ],
      "text/plain": [
       "      state_AE  state_AK  state_AL  state_AP  state_AR  state_AZ  state_CA  \\\n",
       "0            0         0         0         0         0         0         0   \n",
       "1            0         0         0         0         0         0         0   \n",
       "2            0         0         0         0         0         0         0   \n",
       "3            0         0         0         0         0         0         0   \n",
       "4            0         0         0         0         0         0         0   \n",
       "...        ...       ...       ...       ...       ...       ...       ...   \n",
       "3988         0         0         0         0         0         0         0   \n",
       "3989         0         0         0         0         0         0         0   \n",
       "3990         0         0         0         0         0         0         1   \n",
       "3991         0         0         0         0         0         0         1   \n",
       "3992         0         0         0         0         0         0         0   \n",
       "\n",
       "      state_CO  state_CT  state_FL  ...  domain_S1  domain_S2  domain_S3  \\\n",
       "0            0         0         1  ...          0          0          0   \n",
       "1            0         0         0  ...          0          0          0   \n",
       "2            0         0         1  ...          0          0          0   \n",
       "3            0         0         0  ...          0          0          0   \n",
       "4            0         0         1  ...          0          0          0   \n",
       "...        ...       ...       ...  ...        ...        ...        ...   \n",
       "3988         0         0         0  ...          0          0          0   \n",
       "3989         0         0         1  ...          0          0          0   \n",
       "3990         0         0         0  ...          0          0          0   \n",
       "3991         0         0         0  ...          1          0          0   \n",
       "3992         0         0         0  ...          0          0          0   \n",
       "\n",
       "      domain_T1  domain_T2  domain_T3  domain_U1  domain_U2  domain_U3  \\\n",
       "0             0          0          0          0          0          0   \n",
       "1             0          1          0          0          0          0   \n",
       "2             0          0          0          0          0          0   \n",
       "3             0          1          0          0          0          0   \n",
       "4             0          0          0          0          0          0   \n",
       "...         ...        ...        ...        ...        ...        ...   \n",
       "3988          0          0          0          0          0          0   \n",
       "3989          0          1          0          0          0          0   \n",
       "3990          0          0          0          1          0          0   \n",
       "3991          0          0          0          0          0          0   \n",
       "3992          0          0          0          0          0          0   \n",
       "\n",
       "      domain_U4  \n",
       "0             0  \n",
       "1             0  \n",
       "2             0  \n",
       "3             0  \n",
       "4             0  \n",
       "...         ...  \n",
       "3988          0  \n",
       "3989          0  \n",
       "3990          0  \n",
       "3991          0  \n",
       "3992          0  \n",
       "\n",
       "[3993 rows x 65 columns]"
      ]
     },
     "execution_count": 14,
     "metadata": {},
     "output_type": "execute_result"
    }
   ],
   "source": [
    "#get dummies\n",
    "X_dummies=pd.get_dummies(X_cat, drop_first=True)\n",
    "X_dummies"
   ]
  },
  {
   "cell_type": "code",
   "execution_count": 15,
   "id": "8ad25dce",
   "metadata": {},
   "outputs": [
    {
     "data": {
      "text/plain": [
       "(3993, 65)"
      ]
     },
     "execution_count": 15,
     "metadata": {},
     "output_type": "execute_result"
    }
   ],
   "source": [
    "X_dummies.shape"
   ]
  },
  {
   "cell_type": "code",
   "execution_count": 16,
   "id": "c33f72b9",
   "metadata": {},
   "outputs": [
    {
     "data": {
      "text/html": [
       "<div>\n",
       "<style scoped>\n",
       "    .dataframe tbody tr th:only-of-type {\n",
       "        vertical-align: middle;\n",
       "    }\n",
       "\n",
       "    .dataframe tbody tr th {\n",
       "        vertical-align: top;\n",
       "    }\n",
       "\n",
       "    .dataframe thead th {\n",
       "        text-align: right;\n",
       "    }\n",
       "</style>\n",
       "<table border=\"1\" class=\"dataframe\">\n",
       "  <thead>\n",
       "    <tr style=\"text-align: right;\">\n",
       "      <th></th>\n",
       "      <th>state</th>\n",
       "      <th>gender</th>\n",
       "      <th>domain</th>\n",
       "    </tr>\n",
       "  </thead>\n",
       "  <tbody>\n",
       "    <tr>\n",
       "      <th>0</th>\n",
       "      <td>FL</td>\n",
       "      <td>Male</td>\n",
       "      <td>C2</td>\n",
       "    </tr>\n",
       "    <tr>\n",
       "      <th>1</th>\n",
       "      <td>IL</td>\n",
       "      <td>Male</td>\n",
       "      <td>T2</td>\n",
       "    </tr>\n",
       "    <tr>\n",
       "      <th>2</th>\n",
       "      <td>FL</td>\n",
       "      <td>Female</td>\n",
       "      <td>C2</td>\n",
       "    </tr>\n",
       "  </tbody>\n",
       "</table>\n",
       "</div>"
      ],
      "text/plain": [
       "  state  gender domain\n",
       "0    FL    Male     C2\n",
       "1    IL    Male     T2\n",
       "2    FL  Female     C2"
      ]
     },
     "execution_count": 16,
     "metadata": {},
     "output_type": "execute_result"
    }
   ],
   "source": [
    "X_cat.head(3)"
   ]
  },
  {
   "cell_type": "code",
   "execution_count": 17,
   "id": "7441deff",
   "metadata": {},
   "outputs": [
    {
     "data": {
      "text/plain": [
       "array([[10.,  1.,  2.],\n",
       "       [16.,  1., 11.],\n",
       "       [10.,  0.,  2.],\n",
       "       ...,\n",
       "       [ 7.,  0., 13.],\n",
       "       [ 7.,  1.,  7.],\n",
       "       [22.,  1.,  5.]])"
      ]
     },
     "execution_count": 17,
     "metadata": {},
     "output_type": "execute_result"
    }
   ],
   "source": [
    "#Ordinal encoding\n",
    "from sklearn.preprocessing import OrdinalEncoder\n",
    "\n",
    "oe=OrdinalEncoder()\n",
    "oe.fit(X_cat)\n",
    "X_ordinal=oe.transform(X_cat)\n",
    "X_ordinal\n",
    "#mirando la tabla de arriba es el valor numerico q le da a cada valor en letra"
   ]
  },
  {
   "cell_type": "markdown",
   "id": "f2c643b5",
   "metadata": {},
   "source": [
    "## numerical fields processing"
   ]
  },
  {
   "cell_type": "code",
   "execution_count": 18,
   "id": "54ef1136",
   "metadata": {},
   "outputs": [
    {
     "data": {
      "text/plain": [
       "<AxesSubplot:>"
      ]
     },
     "execution_count": 18,
     "metadata": {},
     "output_type": "execute_result"
    },
    {
     "data": {
      "image/png": "[encoded data removed]",
      "text/plain": [
       "<Figure size 432x288 with 1 Axes>"
      ]
     },
     "metadata": {
      "needs_background": "light"
     },
     "output_type": "display_data"
    }
   ],
   "source": [
    "#removing outliers\n",
    "data['medianhv'].hist()"
   ]
  },
  {
   "cell_type": "code",
   "execution_count": 19,
   "id": "6fa51c79",
   "metadata": {},
   "outputs": [
    {
     "data": {
      "text/plain": [
       "<AxesSubplot:>"
      ]
     },
     "execution_count": 19,
     "metadata": {},
     "output_type": "execute_result"
    },
    {
     "data": {
      "image/png": "[encoded data removed]",
      "text/plain": [
       "<Figure size 432x288 with 1 Axes>"
      ]
     },
     "metadata": {
      "needs_background": "light"
     },
     "output_type": "display_data"
    }
   ],
   "source": [
    "data['percapita'].hist()"
   ]
  },
  {
   "cell_type": "code",
   "execution_count": 20,
   "id": "a8531eb6",
   "metadata": {},
   "outputs": [
    {
     "data": {
      "text/plain": [
       "<AxesSubplot:>"
      ]
     },
     "execution_count": 20,
     "metadata": {},
     "output_type": "execute_result"
    },
    {
     "data": {
      "image/png": "[encoded data removed]",
      "text/plain": [
       "<Figure size 432x288 with 1 Axes>"
      ]
     },
     "metadata": {
      "needs_background": "light"
     },
     "output_type": "display_data"
    }
   ],
   "source": [
    "iqr=np.percentile(data['percapita'],75)-np.percentile(data['percapita'],25)\n",
    "upper_limit=np.percentile(data['percapita'],75)+1.5*iqr\n",
    "lower_limit=np.percentile(data['percapita'],25)-1.5*iqr\n",
    "\n",
    "#example only - i will use a new df variable\n",
    "data_exc_out=data[(data['percapita']>lower_limit)&(data['percapita']<upper_limit)]\n",
    "data_exc_out['percapita'].hist()"
   ]
  },
  {
   "cell_type": "code",
   "execution_count": 21,
   "id": "635a147b",
   "metadata": {},
   "outputs": [
    {
     "data": {
      "text/plain": [
       "<AxesSubplot:>"
      ]
     },
     "execution_count": 21,
     "metadata": {},
     "output_type": "execute_result"
    },
    {
     "data": {
      "image/png": "[encoded data removed]",
      "text/plain": [
       "<Figure size 432x288 with 1 Axes>"
      ]
     },
     "metadata": {
      "needs_background": "light"
     },
     "output_type": "display_data"
    }
   ],
   "source": [
    "#power transformation - log transformation\n",
    "data['avggift'].hist()"
   ]
  },
  {
   "cell_type": "code",
   "execution_count": 22,
   "id": "2fa44eee",
   "metadata": {},
   "outputs": [],
   "source": [
    "def log_transform_clean(x):\n",
    "    x=np.log(x)\n",
    "    if np.isfinite(x):\n",
    "        return x\n",
    "    else:\n",
    "        return 0\n",
    "data['avg_gift_log']=list(map(log_transform_clean,data['avggift']))\n"
   ]
  },
  {
   "cell_type": "code",
   "execution_count": 23,
   "id": "f470a23e",
   "metadata": {},
   "outputs": [
    {
     "data": {
      "text/plain": [
       "<AxesSubplot:>"
      ]
     },
     "execution_count": 23,
     "metadata": {},
     "output_type": "execute_result"
    },
    {
     "data": {
      "image/png": "[encoded data removed]",
      "text/plain": [
       "<Figure size 432x288 with 1 Axes>"
      ]
     },
     "metadata": {
      "needs_background": "light"
     },
     "output_type": "display_data"
    }
   ],
   "source": [
    "data['avg_gift_log'].hist()"
   ]
  },
  {
   "cell_type": "code",
   "execution_count": 24,
   "id": "e48ae6c2",
   "metadata": {},
   "outputs": [
    {
     "data": {
      "text/html": [
       "<div>\n",
       "<style scoped>\n",
       "    .dataframe tbody tr th:only-of-type {\n",
       "        vertical-align: middle;\n",
       "    }\n",
       "\n",
       "    .dataframe tbody tr th {\n",
       "        vertical-align: top;\n",
       "    }\n",
       "\n",
       "    .dataframe thead th {\n",
       "        text-align: right;\n",
       "    }\n",
       "</style>\n",
       "<table border=\"1\" class=\"dataframe\">\n",
       "  <thead>\n",
       "    <tr style=\"text-align: right;\">\n",
       "      <th></th>\n",
       "      <th>medianhv</th>\n",
       "      <th>ic1</th>\n",
       "      <th>hvp1</th>\n",
       "      <th>percapita</th>\n",
       "      <th>pobc1</th>\n",
       "      <th>pobc2</th>\n",
       "      <th>avggift</th>\n",
       "      <th>dob</th>\n",
       "    </tr>\n",
       "  </thead>\n",
       "  <tbody>\n",
       "    <tr>\n",
       "      <th>0</th>\n",
       "      <td>801.0</td>\n",
       "      <td>392</td>\n",
       "      <td>7</td>\n",
       "      <td>21975.0</td>\n",
       "      <td>6</td>\n",
       "      <td>16</td>\n",
       "      <td>28.000000</td>\n",
       "      <td>1901</td>\n",
       "    </tr>\n",
       "    <tr>\n",
       "      <th>1</th>\n",
       "      <td>537.0</td>\n",
       "      <td>365</td>\n",
       "      <td>0</td>\n",
       "      <td>19387.0</td>\n",
       "      <td>1</td>\n",
       "      <td>89</td>\n",
       "      <td>5.666667</td>\n",
       "      <td>0</td>\n",
       "    </tr>\n",
       "    <tr>\n",
       "      <th>2</th>\n",
       "      <td>725.0</td>\n",
       "      <td>301</td>\n",
       "      <td>3</td>\n",
       "      <td>18837.0</td>\n",
       "      <td>11</td>\n",
       "      <td>17</td>\n",
       "      <td>4.111111</td>\n",
       "      <td>2501</td>\n",
       "    </tr>\n",
       "    <tr>\n",
       "      <th>3</th>\n",
       "      <td>801.0</td>\n",
       "      <td>401</td>\n",
       "      <td>7</td>\n",
       "      <td>14014.0</td>\n",
       "      <td>1</td>\n",
       "      <td>74</td>\n",
       "      <td>27.277778</td>\n",
       "      <td>2208</td>\n",
       "    </tr>\n",
       "    <tr>\n",
       "      <th>4</th>\n",
       "      <td>995.0</td>\n",
       "      <td>252</td>\n",
       "      <td>0</td>\n",
       "      <td>17991.0</td>\n",
       "      <td>5</td>\n",
       "      <td>6</td>\n",
       "      <td>6.000000</td>\n",
       "      <td>0</td>\n",
       "    </tr>\n",
       "  </tbody>\n",
       "</table>\n",
       "</div>"
      ],
      "text/plain": [
       "   medianhv  ic1  hvp1  percapita  pobc1  pobc2    avggift   dob\n",
       "0     801.0  392     7    21975.0      6     16  28.000000  1901\n",
       "1     537.0  365     0    19387.0      1     89   5.666667     0\n",
       "2     725.0  301     3    18837.0     11     17   4.111111  2501\n",
       "3     801.0  401     7    14014.0      1     74  27.277778  2208\n",
       "4     995.0  252     0    17991.0      5      6   6.000000     0"
      ]
     },
     "execution_count": 24,
     "metadata": {},
     "output_type": "execute_result"
    }
   ],
   "source": [
    "X_num.head()"
   ]
  },
  {
   "cell_type": "markdown",
   "id": "b7f6d049",
   "metadata": {},
   "source": [
    "## check columns"
   ]
  },
  {
   "cell_type": "code",
   "execution_count": 25,
   "id": "1f15d0e4",
   "metadata": {},
   "outputs": [
    {
     "data": {
      "text/plain": [
       "(3993, 8)"
      ]
     },
     "execution_count": 25,
     "metadata": {},
     "output_type": "execute_result"
    }
   ],
   "source": [
    "X_num.shape"
   ]
  },
  {
   "cell_type": "code",
   "execution_count": 26,
   "id": "870241e9",
   "metadata": {},
   "outputs": [
    {
     "data": {
      "text/plain": [
       "(3993, 3)"
      ]
     },
     "execution_count": 26,
     "metadata": {},
     "output_type": "execute_result"
    }
   ],
   "source": [
    "X_cat.shape"
   ]
  },
  {
   "cell_type": "markdown",
   "id": "09d3a6a5",
   "metadata": {},
   "source": [
    "## Bring the data frame back together"
   ]
  },
  {
   "cell_type": "code",
   "execution_count": 27,
   "id": "520ba236",
   "metadata": {},
   "outputs": [],
   "source": [
    "X_final=pd.concat((X_num,X_dummies),axis=1)"
   ]
  },
  {
   "cell_type": "code",
   "execution_count": 28,
   "id": "aa494491",
   "metadata": {},
   "outputs": [
    {
     "data": {
      "text/plain": [
       "(3993, 73)"
      ]
     },
     "execution_count": 28,
     "metadata": {},
     "output_type": "execute_result"
    }
   ],
   "source": [
    "X_final.shape"
   ]
  },
  {
   "cell_type": "markdown",
   "id": "8d2655b2",
   "metadata": {},
   "source": [
    "# Train and test split"
   ]
  },
  {
   "cell_type": "code",
   "execution_count": 31,
   "id": "89ea1cb2",
   "metadata": {},
   "outputs": [],
   "source": [
    "X_train,X_test,y_train,y_test=train_test_split(X_final,y,test_size=0.3, random_state=40)"
   ]
  },
  {
   "cell_type": "markdown",
   "id": "f105c064",
   "metadata": {},
   "source": [
    "# Apply the model"
   ]
  },
  {
   "cell_type": "code",
   "execution_count": 109,
   "id": "7444b807",
   "metadata": {},
   "outputs": [],
   "source": [
    "lm=linear_model.LinearRegression() #configure model\n",
    "model=lm.fit(X_train,y_train)"
   ]
  },
  {
   "cell_type": "markdown",
   "id": "87ca67c7",
   "metadata": {},
   "source": [
    "# Make predictions using the model"
   ]
  },
  {
   "cell_type": "code",
   "execution_count": 110,
   "id": "a95cde5d",
   "metadata": {},
   "outputs": [
    {
     "data": {
      "text/plain": [
       "array([16.93476687, 18.70265668, 16.4559557 , ...,  6.19599294,\n",
       "        7.21649417, 13.43434895])"
      ]
     },
     "execution_count": 110,
     "metadata": {},
     "output_type": "execute_result"
    }
   ],
   "source": [
    "preds=lm.predict(X_test)\n",
    "preds"
   ]
  },
  {
   "cell_type": "markdown",
   "id": "8b1a49a7",
   "metadata": {},
   "source": [
    "# Evaluate the model -r2, mse"
   ]
  },
  {
   "cell_type": "code",
   "execution_count": 114,
   "id": "9ba3fd08",
   "metadata": {},
   "outputs": [
    {
     "data": {
      "text/plain": [
       "-0.5428199893295702"
      ]
     },
     "execution_count": 114,
     "metadata": {},
     "output_type": "execute_result"
    }
   ],
   "source": [
    "r2_score(y_test,preds) #how good is that line (Regression line)"
   ]
  },
  {
   "cell_type": "code",
   "execution_count": 116,
   "id": "e96dfc7d",
   "metadata": {},
   "outputs": [
    {
     "data": {
      "text/plain": [
       "285.1134229397996"
      ]
     },
     "execution_count": 116,
     "metadata": {},
     "output_type": "execute_result"
    }
   ],
   "source": [
    "mean_squared_error(y_test,preds)"
   ]
  },
  {
   "cell_type": "code",
   "execution_count": null,
   "id": "2415f39a",
   "metadata": {},
   "outputs": [],
   "source": [
    "#conclusion - this is a baseline"
   ]
  },
  {
   "cell_type": "markdown",
   "id": "1d52e19b",
   "metadata": {},
   "source": [
    "#Scaling numerical columns - apply to X_num\n",
    "- MinMaxScaler\n",
    "- Normalizer\n",
    "- Robust Scaler(outliers)\n",
    "- Standard Scaler\n"
   ]
  },
  {
   "cell_type": "code",
   "execution_count": 120,
   "id": "87859c8f",
   "metadata": {},
   "outputs": [
    {
     "data": {
      "text/plain": [
       "array([[0.13390171, 0.26133333, 0.07070707, ..., 0.16161616, 0.05748689,\n",
       "        0.20418904],\n",
       "       [0.08976931, 0.24333333, 0.        , ..., 0.8989899 , 0.00760666,\n",
       "        0.        ],\n",
       "       [0.12119692, 0.20066667, 0.03030303, ..., 0.17171717, 0.00413241,\n",
       "        0.26863588],\n",
       "       ...,\n",
       "       [0.45252424, 0.338     , 0.80808081, ..., 0.54545455, 0.02201455,\n",
       "        0.42975295],\n",
       "       [0.44567034, 0.35666667, 0.63636364, ..., 0.45454545, 0.02249628,\n",
       "        0.47271751],\n",
       "       [0.07422267, 0.15      , 0.03030303, ..., 0.86868687, 0.03323808,\n",
       "        0.04350161]])"
      ]
     },
     "execution_count": 120,
     "metadata": {},
     "output_type": "execute_result"
    }
   ],
   "source": [
    "from sklearn.preprocessing import MinMaxScaler\n",
    "scaler = MinMaxScaler() #optionally range 1-10\n",
    "scaled=scaler.fit(X_num)\n",
    "scaled_X_num=scaled.transform(X_num)\n",
    "scaled_X_num"
   ]
  },
  {
   "cell_type": "code",
   "execution_count": null,
   "id": "860f6aa5",
   "metadata": {},
   "outputs": [],
   "source": []
  },
  {
   "cell_type": "code",
   "execution_count": null,
   "id": "1fa66b87",
   "metadata": {},
   "outputs": [],
   "source": []
  }
 ],
 "metadata": {
  "kernelspec": {
   "display_name": "Python 3 (ipykernel)",
   "language": "python",
   "name": "python3"
  },
  "language_info": {
   "codemirror_mode": {
    "name": "ipython",
    "version": 3
   },
   "file_extension": ".py",
   "mimetype": "text/x-python",
   "name": "python",
   "nbconvert_exporter": "python",
   "pygments_lexer": "ipython3",
   "version": "3.8.12"
  },
  "toc": {
   "base_numbering": 1,
   "nav_menu": {},
   "number_sections": true,
   "sideBar": true,
   "skip_h1_title": false,
   "title_cell": "Table of Contents",
   "title_sidebar": "Contents",
   "toc_cell": false,
   "toc_position": {},
   "toc_section_display": true,
   "toc_window_display": false
  }
 },
 "nbformat": 4,
 "nbformat_minor": 5
}
