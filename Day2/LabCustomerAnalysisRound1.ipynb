{
 "cells": [
  {
   "cell_type": "markdown",
   "id": "7cd446bb",
   "metadata": {},
   "source": [
    "# Imports\n"
   ]
  },
  {
   "cell_type": "code",
   "execution_count": 1,
   "id": "2a4dde7f",
   "metadata": {},
   "outputs": [],
   "source": [
    "import pandas as pd"
   ]
  },
  {
   "cell_type": "markdown",
   "id": "cc48098d",
   "metadata": {},
   "source": [
    "# Imports files\n"
   ]
  },
  {
   "cell_type": "code",
   "execution_count": 2,
   "id": "6fc95f03",
   "metadata": {},
   "outputs": [],
   "source": [
    "file1 = pd.read_csv('file1.txt',sep=',')\n",
    "file2 = pd.read_csv('file2.txt',sep=',')\n",
    "file3 = pd.read_csv('file3.txt',sep=',')"
   ]
  },
  {
   "cell_type": "markdown",
   "id": "394addb4",
   "metadata": {},
   "source": [
    "# Show Dataframe shape\n"
   ]
  },
  {
   "cell_type": "code",
   "execution_count": 3,
   "id": "2293756a",
   "metadata": {},
   "outputs": [
    {
     "name": "stdout",
     "output_type": "stream",
     "text": [
      "(4008, 11)\n",
      "(996, 11)\n",
      "(7070, 11)\n"
     ]
    }
   ],
   "source": [
    "print(file1.shape)\n",
    "print(file2.shape)\n",
    "print(file3.shape)"
   ]
  },
  {
   "cell_type": "markdown",
   "id": "8e0f734d",
   "metadata": {},
   "source": [
    "# Standardize header names\n"
   ]
  },
  {
   "cell_type": "code",
   "execution_count": 4,
   "id": "634245f3",
   "metadata": {},
   "outputs": [
    {
     "name": "stdout",
     "output_type": "stream",
     "text": [
      "Index(['customer', 'st', 'gender', 'education', 'customer lifetime value',\n",
      "       'income', 'monthly premium auto', 'number of open complaints',\n",
      "       'policy type', 'vehicle class', 'total claim amount'],\n",
      "      dtype='object')\n",
      "Index(['customer', 'st', 'gender', 'education', 'customer lifetime value',\n",
      "       'income', 'monthly premium auto', 'number of open complaints',\n",
      "       'total claim amount', 'policy type', 'vehicle class'],\n",
      "      dtype='object')\n",
      "Index(['customer', 'state', 'customer lifetime value', 'education', 'gender',\n",
      "       'income', 'monthly premium auto', 'number of open complaints',\n",
      "       'policy type', 'total claim amount', 'vehicle class'],\n",
      "      dtype='object')\n"
     ]
    }
   ],
   "source": [
    "cols = []\n",
    "for i in range (len(file1.columns)):\n",
    "    cols.append(file1.columns[i].lower())\n",
    "file1.columns = cols\n",
    "\n",
    "cols = []\n",
    "for i in range (len(file2.columns)):\n",
    "    cols.append(file2.columns[i].lower())\n",
    "file2.columns = cols\n",
    "\n",
    "cols = []\n",
    "for i in range (len(file3.columns)):\n",
    "    cols.append(file3.columns[i].lower())\n",
    "file3.columns = cols\n",
    "\n",
    "print(file1.columns)\n",
    "print(file2.columns)\n",
    "print(file3.columns)"
   ]
  },
  {
   "cell_type": "markdown",
   "id": "259a21e6",
   "metadata": {},
   "source": [
    "#  Rearrange the columns in the dataframe as needed\n",
    "\n"
   ]
  },
  {
   "cell_type": "code",
   "execution_count": 5,
   "id": "1ddc07aa",
   "metadata": {},
   "outputs": [
    {
     "name": "stdout",
     "output_type": "stream",
     "text": [
      "Index(['customer', 'state', 'gender', 'education', 'customer lifetime value',\n",
      "       'income', 'monthly premium auto', 'number of open complaints',\n",
      "       'policy type', 'vehicle class', 'total claim amount'],\n",
      "      dtype='object')\n",
      "Index(['customer', 'state', 'gender', 'education', 'customer lifetime value',\n",
      "       'income', 'monthly premium auto', 'number of open complaints',\n",
      "       'total claim amount', 'policy type', 'vehicle class'],\n",
      "      dtype='object')\n",
      "Index(['customer', 'state', 'customer lifetime value', 'education', 'gender',\n",
      "       'income', 'monthly premium auto', 'number of open complaints',\n",
      "       'policy type', 'total claim amount', 'vehicle class'],\n",
      "      dtype='object')\n"
     ]
    }
   ],
   "source": [
    "new_names = {'st':'state',}\n",
    "file1.rename(columns=new_names,inplace=True)\n",
    "file2.rename(columns=new_names,inplace=True)\n",
    "\n",
    "print(file1.columns)\n",
    "print(file2.columns)\n",
    "print(file3.columns)"
   ]
  },
  {
   "cell_type": "markdown",
   "id": "3d9c9819",
   "metadata": {},
   "source": [
    "# Concatenate the three dataframes"
   ]
  },
  {
   "cell_type": "code",
   "execution_count": 6,
   "id": "92b82855",
   "metadata": {},
   "outputs": [
    {
     "name": "stdout",
     "output_type": "stream",
     "text": [
      "<class 'pandas.core.frame.DataFrame'>\n",
      "Int64Index: 12074 entries, 0 to 7069\n",
      "Data columns (total 11 columns):\n",
      " #   Column                     Non-Null Count  Dtype  \n",
      "---  ------                     --------------  -----  \n",
      " 0   customer                   9137 non-null   object \n",
      " 1   state                      9137 non-null   object \n",
      " 2   gender                     9015 non-null   object \n",
      " 3   education                  9137 non-null   object \n",
      " 4   customer lifetime value    9130 non-null   object \n",
      " 5   income                     9137 non-null   float64\n",
      " 6   monthly premium auto       9137 non-null   float64\n",
      " 7   number of open complaints  9137 non-null   object \n",
      " 8   policy type                9137 non-null   object \n",
      " 9   vehicle class              9137 non-null   object \n",
      " 10  total claim amount         9137 non-null   float64\n",
      "dtypes: float64(3), object(8)\n",
      "memory usage: 1.1+ MB\n"
     ]
    }
   ],
   "source": [
    "data = pd.concat([file1,file2,file3],axis=0)\n",
    "data.info()"
   ]
  },
  {
   "cell_type": "code",
   "execution_count": 7,
   "id": "60f1b310",
   "metadata": {},
   "outputs": [
    {
     "name": "stdout",
     "output_type": "stream",
     "text": [
      "<class 'pandas.core.frame.DataFrame'>\n",
      "RangeIndex: 12074 entries, 0 to 12073\n",
      "Data columns (total 11 columns):\n",
      " #   Column                     Non-Null Count  Dtype  \n",
      "---  ------                     --------------  -----  \n",
      " 0   customer                   9137 non-null   object \n",
      " 1   state                      9137 non-null   object \n",
      " 2   gender                     9015 non-null   object \n",
      " 3   education                  9137 non-null   object \n",
      " 4   customer lifetime value    9130 non-null   object \n",
      " 5   income                     9137 non-null   float64\n",
      " 6   monthly premium auto       9137 non-null   float64\n",
      " 7   number of open complaints  9137 non-null   object \n",
      " 8   policy type                9137 non-null   object \n",
      " 9   vehicle class              9137 non-null   object \n",
      " 10  total claim amount         9137 non-null   float64\n",
      "dtypes: float64(3), object(8)\n",
      "memory usage: 1.0+ MB\n"
     ]
    }
   ],
   "source": [
    "data.reset_index(drop=True, inplace=True)\n",
    "data.info()"
   ]
  },
  {
   "cell_type": "markdown",
   "id": "193d3fe8",
   "metadata": {},
   "source": [
    "# Which columns are numerical?"
   ]
  },
  {
   "cell_type": "code",
   "execution_count": 8,
   "id": "1090b6b6",
   "metadata": {},
   "outputs": [
    {
     "name": "stdout",
     "output_type": "stream",
     "text": [
      "<class 'pandas.core.frame.DataFrame'>\n",
      "RangeIndex: 12074 entries, 0 to 12073\n",
      "Data columns (total 11 columns):\n",
      " #   Column                     Non-Null Count  Dtype  \n",
      "---  ------                     --------------  -----  \n",
      " 0   customer                   9137 non-null   object \n",
      " 1   state                      9137 non-null   object \n",
      " 2   gender                     9015 non-null   object \n",
      " 3   education                  9137 non-null   object \n",
      " 4   customer lifetime value    9130 non-null   object \n",
      " 5   income                     9137 non-null   float64\n",
      " 6   monthly premium auto       9137 non-null   float64\n",
      " 7   number of open complaints  9137 non-null   object \n",
      " 8   policy type                9137 non-null   object \n",
      " 9   vehicle class              9137 non-null   object \n",
      " 10  total claim amount         9137 non-null   float64\n",
      "dtypes: float64(3), object(8)\n",
      "memory usage: 1.0+ MB\n"
     ]
    }
   ],
   "source": [
    "data.info()"
   ]
  },
  {
   "cell_type": "markdown",
   "id": "edfff350",
   "metadata": {},
   "source": [
    "Customer lifetime value - income - monthly premium auto - number of open complaints - total claim amoun"
   ]
  },
  {
   "cell_type": "markdown",
   "id": "b64f9e22",
   "metadata": {},
   "source": [
    "# Which columns are categorical?"
   ]
  },
  {
   "cell_type": "code",
   "execution_count": 9,
   "id": "3b9f50bf",
   "metadata": {},
   "outputs": [
    {
     "name": "stdout",
     "output_type": "stream",
     "text": [
      "<class 'pandas.core.frame.DataFrame'>\n",
      "RangeIndex: 12074 entries, 0 to 12073\n",
      "Data columns (total 11 columns):\n",
      " #   Column                     Non-Null Count  Dtype  \n",
      "---  ------                     --------------  -----  \n",
      " 0   customer                   9137 non-null   object \n",
      " 1   state                      9137 non-null   object \n",
      " 2   gender                     9015 non-null   object \n",
      " 3   education                  9137 non-null   object \n",
      " 4   customer lifetime value    9130 non-null   object \n",
      " 5   income                     9137 non-null   float64\n",
      " 6   monthly premium auto       9137 non-null   float64\n",
      " 7   number of open complaints  9137 non-null   object \n",
      " 8   policy type                9137 non-null   object \n",
      " 9   vehicle class              9137 non-null   object \n",
      " 10  total claim amount         9137 non-null   float64\n",
      "dtypes: float64(3), object(8)\n",
      "memory usage: 1.0+ MB\n"
     ]
    }
   ],
   "source": [
    "data.info()"
   ]
  },
  {
   "cell_type": "markdown",
   "id": "99d558fe",
   "metadata": {},
   "source": [
    "Customer - State - Gender - Education - Policy type - Vehicle class"
   ]
  },
  {
   "cell_type": "markdown",
   "id": "09d8e55d",
   "metadata": {},
   "source": [
    "# Understand the meaning of all columns"
   ]
  },
  {
   "cell_type": "markdown",
   "id": "0152433d",
   "metadata": {},
   "source": [
    "- Customer: It is an identifier, it should be a string\n",
    "- State: Place where they live, it should be a string\n",
    "- Gender: sex of them, it should be 'M' or 'F'\n",
    "- Education: highest level of studies, it should be a string\n",
    "- Customer lifetime value: How attractive is the customer to the company, should be a number\n",
    "- Income: how much does the customer enter, it should be a number\n",
    "- Monthly premium auto: it should be a number\n",
    "- Number of open complains: it should be a number\n",
    "- Policy type: it should be a string\n",
    "- Vehicle class: it should be a string\n",
    "- Total claim amount: it should be a number"
   ]
  },
  {
   "cell_type": "markdown",
   "id": "4b68528d",
   "metadata": {},
   "source": [
    "# Perform the data cleaning operations mentioned so far in class\n"
   ]
  },
  {
   "cell_type": "markdown",
   "id": "cb634b34",
   "metadata": {},
   "source": [
    "## Delete the column education and the number of open complaints from the dataframe."
   ]
  },
  {
   "cell_type": "code",
   "execution_count": 10,
   "id": "8a44334e",
   "metadata": {},
   "outputs": [
    {
     "data": {
      "text/html": [
       "<div>\n",
       "<style scoped>\n",
       "    .dataframe tbody tr th:only-of-type {\n",
       "        vertical-align: middle;\n",
       "    }\n",
       "\n",
       "    .dataframe tbody tr th {\n",
       "        vertical-align: top;\n",
       "    }\n",
       "\n",
       "    .dataframe thead th {\n",
       "        text-align: right;\n",
       "    }\n",
       "</style>\n",
       "<table border=\"1\" class=\"dataframe\">\n",
       "  <thead>\n",
       "    <tr style=\"text-align: right;\">\n",
       "      <th></th>\n",
       "      <th>customer</th>\n",
       "      <th>state</th>\n",
       "      <th>gender</th>\n",
       "      <th>customer lifetime value</th>\n",
       "      <th>income</th>\n",
       "      <th>monthly premium auto</th>\n",
       "      <th>policy type</th>\n",
       "      <th>vehicle class</th>\n",
       "      <th>total claim amount</th>\n",
       "    </tr>\n",
       "  </thead>\n",
       "  <tbody>\n",
       "    <tr>\n",
       "      <th>0</th>\n",
       "      <td>RB50392</td>\n",
       "      <td>Washington</td>\n",
       "      <td>NaN</td>\n",
       "      <td>NaN</td>\n",
       "      <td>0.0</td>\n",
       "      <td>1000.0</td>\n",
       "      <td>Personal Auto</td>\n",
       "      <td>Four-Door Car</td>\n",
       "      <td>2.704934</td>\n",
       "    </tr>\n",
       "  </tbody>\n",
       "</table>\n",
       "</div>"
      ],
      "text/plain": [
       "  customer       state gender customer lifetime value  income  \\\n",
       "0  RB50392  Washington    NaN                     NaN     0.0   \n",
       "\n",
       "   monthly premium auto    policy type  vehicle class  total claim amount  \n",
       "0                1000.0  Personal Auto  Four-Door Car            2.704934  "
      ]
     },
     "execution_count": 10,
     "metadata": {},
     "output_type": "execute_result"
    }
   ],
   "source": [
    "data = data.drop(['education','number of open complaints'],axis=1)\n",
    "data.head(1)"
   ]
  },
  {
   "cell_type": "markdown",
   "id": "ae8a414b",
   "metadata": {},
   "source": [
    "## Correct the values in the column customer lifetime value. They are given as a percent, so multiply them by 100 and change dtype to numerical type."
   ]
  },
  {
   "cell_type": "code",
   "execution_count": 11,
   "id": "da06619f",
   "metadata": {
    "scrolled": true
   },
   "outputs": [],
   "source": [
    "data['customer lifetime value'] = (data['customer lifetime value'])*100"
   ]
  },
  {
   "cell_type": "code",
   "execution_count": 12,
   "id": "42a0857c",
   "metadata": {},
   "outputs": [
    {
     "data": {
      "text/plain": [
       "array([        nan, 347913.7523, 250263.7401, ..., 816389.0428,\n",
       "       752444.2436, 261183.6866])"
      ]
     },
     "execution_count": 12,
     "metadata": {},
     "output_type": "execute_result"
    }
   ],
   "source": [
    "data['customer lifetime value']=pd.to_numeric(data['customer lifetime value'],errors='coerce')\n",
    "data['customer lifetime value'].unique()"
   ]
  },
  {
   "cell_type": "markdown",
   "id": "9e1ceac0",
   "metadata": {},
   "source": [
    "## Check for duplicate rows in the data and remove if any."
   ]
  },
  {
   "cell_type": "code",
   "execution_count": 13,
   "id": "8c4f5ccf",
   "metadata": {},
   "outputs": [
    {
     "data": {
      "text/plain": [
       "(12074, 9)"
      ]
     },
     "execution_count": 13,
     "metadata": {},
     "output_type": "execute_result"
    }
   ],
   "source": [
    "data.shape"
   ]
  },
  {
   "cell_type": "code",
   "execution_count": 14,
   "id": "cc69c02e",
   "metadata": {},
   "outputs": [
    {
     "data": {
      "text/plain": [
       "(9135, 9)"
      ]
     },
     "execution_count": 14,
     "metadata": {},
     "output_type": "execute_result"
    }
   ],
   "source": [
    "data = data.drop_duplicates()\n",
    "data.shape"
   ]
  },
  {
   "cell_type": "markdown",
   "id": "30615a99",
   "metadata": {},
   "source": [
    "## Filter out the data for customers who have an income of 0 or less."
   ]
  },
  {
   "cell_type": "code",
   "execution_count": 15,
   "id": "349cf3d1",
   "metadata": {},
   "outputs": [
    {
     "data": {
      "text/html": [
       "<div>\n",
       "<style scoped>\n",
       "    .dataframe tbody tr th:only-of-type {\n",
       "        vertical-align: middle;\n",
       "    }\n",
       "\n",
       "    .dataframe tbody tr th {\n",
       "        vertical-align: top;\n",
       "    }\n",
       "\n",
       "    .dataframe thead th {\n",
       "        text-align: right;\n",
       "    }\n",
       "</style>\n",
       "<table border=\"1\" class=\"dataframe\">\n",
       "  <thead>\n",
       "    <tr style=\"text-align: right;\">\n",
       "      <th></th>\n",
       "      <th>customer</th>\n",
       "      <th>state</th>\n",
       "      <th>gender</th>\n",
       "      <th>customer lifetime value</th>\n",
       "      <th>income</th>\n",
       "      <th>monthly premium auto</th>\n",
       "      <th>policy type</th>\n",
       "      <th>vehicle class</th>\n",
       "      <th>total claim amount</th>\n",
       "    </tr>\n",
       "  </thead>\n",
       "  <tbody>\n",
       "    <tr>\n",
       "      <th>0</th>\n",
       "      <td>RB50392</td>\n",
       "      <td>Washington</td>\n",
       "      <td>NaN</td>\n",
       "      <td>NaN</td>\n",
       "      <td>0.0</td>\n",
       "      <td>1000.0</td>\n",
       "      <td>Personal Auto</td>\n",
       "      <td>Four-Door Car</td>\n",
       "      <td>2.704934</td>\n",
       "    </tr>\n",
       "    <tr>\n",
       "      <th>1</th>\n",
       "      <td>QZ44356</td>\n",
       "      <td>Arizona</td>\n",
       "      <td>F</td>\n",
       "      <td>NaN</td>\n",
       "      <td>0.0</td>\n",
       "      <td>94.0</td>\n",
       "      <td>Personal Auto</td>\n",
       "      <td>Four-Door Car</td>\n",
       "      <td>1131.464935</td>\n",
       "    </tr>\n",
       "    <tr>\n",
       "      <th>3</th>\n",
       "      <td>WW63253</td>\n",
       "      <td>California</td>\n",
       "      <td>M</td>\n",
       "      <td>NaN</td>\n",
       "      <td>0.0</td>\n",
       "      <td>106.0</td>\n",
       "      <td>Corporate Auto</td>\n",
       "      <td>SUV</td>\n",
       "      <td>529.881344</td>\n",
       "    </tr>\n",
       "    <tr>\n",
       "      <th>7</th>\n",
       "      <td>CF85061</td>\n",
       "      <td>Arizona</td>\n",
       "      <td>M</td>\n",
       "      <td>NaN</td>\n",
       "      <td>0.0</td>\n",
       "      <td>101.0</td>\n",
       "      <td>Corporate Auto</td>\n",
       "      <td>Four-Door Car</td>\n",
       "      <td>363.029680</td>\n",
       "    </tr>\n",
       "    <tr>\n",
       "      <th>10</th>\n",
       "      <td>SX51350</td>\n",
       "      <td>California</td>\n",
       "      <td>M</td>\n",
       "      <td>NaN</td>\n",
       "      <td>0.0</td>\n",
       "      <td>67.0</td>\n",
       "      <td>Personal Auto</td>\n",
       "      <td>Four-Door Car</td>\n",
       "      <td>482.400000</td>\n",
       "    </tr>\n",
       "    <tr>\n",
       "      <th>...</th>\n",
       "      <td>...</td>\n",
       "      <td>...</td>\n",
       "      <td>...</td>\n",
       "      <td>...</td>\n",
       "      <td>...</td>\n",
       "      <td>...</td>\n",
       "      <td>...</td>\n",
       "      <td>...</td>\n",
       "      <td>...</td>\n",
       "    </tr>\n",
       "    <tr>\n",
       "      <th>12063</th>\n",
       "      <td>WZ45103</td>\n",
       "      <td>California</td>\n",
       "      <td>F</td>\n",
       "      <td>5.678050e+05</td>\n",
       "      <td>0.0</td>\n",
       "      <td>76.0</td>\n",
       "      <td>Personal Auto</td>\n",
       "      <td>Four-Door Car</td>\n",
       "      <td>364.800000</td>\n",
       "    </tr>\n",
       "    <tr>\n",
       "      <th>12065</th>\n",
       "      <td>RX91025</td>\n",
       "      <td>California</td>\n",
       "      <td>M</td>\n",
       "      <td>1.987226e+06</td>\n",
       "      <td>0.0</td>\n",
       "      <td>185.0</td>\n",
       "      <td>Personal Auto</td>\n",
       "      <td>SUV</td>\n",
       "      <td>1950.725547</td>\n",
       "    </tr>\n",
       "    <tr>\n",
       "      <th>12066</th>\n",
       "      <td>AC13887</td>\n",
       "      <td>California</td>\n",
       "      <td>M</td>\n",
       "      <td>4.628995e+05</td>\n",
       "      <td>0.0</td>\n",
       "      <td>67.0</td>\n",
       "      <td>Corporate Auto</td>\n",
       "      <td>Two-Door Car</td>\n",
       "      <td>482.400000</td>\n",
       "    </tr>\n",
       "    <tr>\n",
       "      <th>12071</th>\n",
       "      <td>TD14365</td>\n",
       "      <td>California</td>\n",
       "      <td>M</td>\n",
       "      <td>8.163890e+05</td>\n",
       "      <td>0.0</td>\n",
       "      <td>85.0</td>\n",
       "      <td>Corporate Auto</td>\n",
       "      <td>Four-Door Car</td>\n",
       "      <td>790.784983</td>\n",
       "    </tr>\n",
       "    <tr>\n",
       "      <th>12073</th>\n",
       "      <td>Y167826</td>\n",
       "      <td>California</td>\n",
       "      <td>M</td>\n",
       "      <td>2.611837e+05</td>\n",
       "      <td>0.0</td>\n",
       "      <td>77.0</td>\n",
       "      <td>Corporate Auto</td>\n",
       "      <td>Two-Door Car</td>\n",
       "      <td>369.600000</td>\n",
       "    </tr>\n",
       "  </tbody>\n",
       "</table>\n",
       "<p>2294 rows × 9 columns</p>\n",
       "</div>"
      ],
      "text/plain": [
       "      customer       state gender  customer lifetime value  income  \\\n",
       "0      RB50392  Washington    NaN                      NaN     0.0   \n",
       "1      QZ44356     Arizona      F                      NaN     0.0   \n",
       "3      WW63253  California      M                      NaN     0.0   \n",
       "7      CF85061     Arizona      M                      NaN     0.0   \n",
       "10     SX51350  California      M                      NaN     0.0   \n",
       "...        ...         ...    ...                      ...     ...   \n",
       "12063  WZ45103  California      F             5.678050e+05     0.0   \n",
       "12065  RX91025  California      M             1.987226e+06     0.0   \n",
       "12066  AC13887  California      M             4.628995e+05     0.0   \n",
       "12071  TD14365  California      M             8.163890e+05     0.0   \n",
       "12073  Y167826  California      M             2.611837e+05     0.0   \n",
       "\n",
       "       monthly premium auto     policy type  vehicle class  total claim amount  \n",
       "0                    1000.0   Personal Auto  Four-Door Car            2.704934  \n",
       "1                      94.0   Personal Auto  Four-Door Car         1131.464935  \n",
       "3                     106.0  Corporate Auto            SUV          529.881344  \n",
       "7                     101.0  Corporate Auto  Four-Door Car          363.029680  \n",
       "10                     67.0   Personal Auto  Four-Door Car          482.400000  \n",
       "...                     ...             ...            ...                 ...  \n",
       "12063                  76.0   Personal Auto  Four-Door Car          364.800000  \n",
       "12065                 185.0   Personal Auto            SUV         1950.725547  \n",
       "12066                  67.0  Corporate Auto   Two-Door Car          482.400000  \n",
       "12071                  85.0  Corporate Auto  Four-Door Car          790.784983  \n",
       "12073                  77.0  Corporate Auto   Two-Door Car          369.600000  \n",
       "\n",
       "[2294 rows x 9 columns]"
      ]
     },
     "execution_count": 15,
     "metadata": {},
     "output_type": "execute_result"
    }
   ],
   "source": [
    "data.query('income<=0')"
   ]
  }
 ],
 "metadata": {
  "kernelspec": {
   "display_name": "Python 3 (ipykernel)",
   "language": "python",
   "name": "python3"
  },
  "language_info": {
   "codemirror_mode": {
    "name": "ipython",
    "version": 3
   },
   "file_extension": ".py",
   "mimetype": "text/x-python",
   "name": "python",
   "nbconvert_exporter": "python",
   "pygments_lexer": "ipython3",
   "version": "3.8.12"
  },
  "toc": {
   "base_numbering": 1,
   "nav_menu": {},
   "number_sections": true,
   "sideBar": true,
   "skip_h1_title": false,
   "title_cell": "Table of Contents",
   "title_sidebar": "Contents",
   "toc_cell": false,
   "toc_position": {},
   "toc_section_display": true,
   "toc_window_display": false
  }
 },
 "nbformat": 4,
 "nbformat_minor": 5
}
